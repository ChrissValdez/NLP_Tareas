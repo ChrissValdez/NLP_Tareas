{
 "cells": [
  {
   "cell_type": "markdown",
   "metadata": {
    "id": "759SG4TyfbUn"
   },
   "source": [
    "#**Maestría en Inteligencia Artificial Aplicada**\n",
    "##**Curso: Procesamiento de Lenguaje Natural (NLP)**\n",
    "###Tecnológico de Monterrey\n",
    "###Prof Luis Eduardo Falcón Morales\n",
    "\n",
    "## **Adtividad de la Semana 02**\n",
    "###**Introducción al procesamiento de texto.**"
   ]
  },
  {
   "cell_type": "markdown",
   "metadata": {},
   "source": [
    "## CHRISTOPHER VALDEZ CANTU A01793549"
   ]
  },
  {
   "cell_type": "markdown",
   "metadata": {
    "id": "6ue1YAKx3XDo"
   },
   "source": [
    "En esta actividad deberás utilizar los datos del siguiente archivo que se encuentra en Canvas:\n",
    "\n",
    "MNA_NLP_semana_02_Actividad_datos.txt\n",
    "\n",
    "El archivo contiene comentarios en inglés sobre servicios de comida de la página de Yelp: https://www.yelp.com/ . \n",
    "\n",
    "Son mil comentarios y forman parte del conjunto de datos que se encuentra en el Machine Learning Repository de la UCI, llamado \"Sentiment Labelled Sentences\": https://archive.ics.uci.edu/ml/datasets/Sentiment+Labelled+Sentences#\n"
   ]
  },
  {
   "cell_type": "markdown",
   "metadata": {
    "id": "Zj-h4drXD-X9"
   },
   "source": [
    "#**Parte 1. Cargamos los datos.**   "
   ]
  },
  {
   "cell_type": "markdown",
   "metadata": {
    "id": "BY6yifxscfrx"
   },
   "source": [
    "Cargar los datos del archivo indicado y obtener una lista de longitud de 1000 strings/comentarios. \n",
    "\n",
    "Por el momento solamente requerimos las bibliotecas de Numpy y re, para el manejo de los arreglos y de las expresiones regulares en Python.\n",
    "\n",
    "En particular, no necesitarás en esta actividad la biblioteca de Pandas.\n",
    "\n",
    "###**NOTA: En esta actividad no debes importar nada más, con estas dos bibliotecas será *suficiente*.**"
   ]
  },
  {
   "cell_type": "code",
   "execution_count": 3,
   "metadata": {
    "id": "OJ26dAfhdFnf"
   },
   "outputs": [],
   "source": [
    "import numpy as np    # importamos Numpy para el manejo de los arreglos.\n",
    "import re             # importamos re para el manejo de las expresiones regulares."
   ]
  },
  {
   "cell_type": "code",
   "execution_count": 4,
   "metadata": {
    "id": "QHUmJyjDdGNP"
   },
   "outputs": [],
   "source": [
    "# Ejecuta las siguientes instrucciones para cargar la información del achivo dado:\n",
    "\n",
    "with open('A01793549_semana2_actividad_01_datos.txt',        # puedes actualizar la ruta a tu archivo, en dado caso.\n",
    "          mode='r', encoding=\"utf-8\"    # abrimos el archivo en modo lectura.\n",
    "          ) as f:\n",
    "    docs = f.readlines()    # separamos cada comentario por líneas\n",
    "\n",
    "f.close()  # ya que tenemos la información en la variable docs, cerramos el archivo"
   ]
  },
  {
   "cell_type": "code",
   "execution_count": 5,
   "metadata": {
    "id": "L6WzrSrodG-Y"
   },
   "outputs": [
    {
     "data": {
      "text/plain": [
       "True"
      ]
     },
     "execution_count": 5,
     "metadata": {},
     "output_type": "execute_result"
    }
   ],
   "source": [
    "type(docs) == list   # Verifica que tu variable \"docs\" es una lista"
   ]
  },
  {
   "cell_type": "code",
   "execution_count": 6,
   "metadata": {
    "id": "QIK1u9WS2FtS"
   },
   "outputs": [
    {
     "data": {
      "text/plain": [
       "True"
      ]
     },
     "execution_count": 6,
     "metadata": {},
     "output_type": "execute_result"
    }
   ],
   "source": [
    "len(docs)==1000  # verifica que la longitud de \"docs\" es de mil comentarios."
   ]
  },
  {
   "cell_type": "code",
   "execution_count": 7,
   "metadata": {
    "id": "9AMLIfQvJqNZ"
   },
   "outputs": [
    {
     "data": {
      "text/plain": [
       "['Wow... Loved this place.\\n',\n",
       " 'Crust is not good.\\n',\n",
       " 'Not tasty and the texture was just nasty.\\n',\n",
       " 'Stopped by during the late May bank holiday off Rick Steve recommendation and loved it.\\n',\n",
       " 'The selection on the menu was great and so were the prices.\\n',\n",
       " 'Now I am getting angry and I want my damn pho.\\n',\n",
       " \"Honeslty it didn't taste THAT fresh.)\\n\",\n",
       " 'The potatoes were like rubber and you could tell they had been made up ahead of time being kept under a warmer.\\n',\n",
       " 'The fries were great too.\\n',\n",
       " 'A great touch.\\n']"
      ]
     },
     "execution_count": 7,
     "metadata": {},
     "output_type": "execute_result"
    }
   ],
   "source": [
    "docs[0:10]     # observa algunos de los primeros comentarios"
   ]
  },
  {
   "cell_type": "markdown",
   "metadata": {
    "id": "k_ewoagic5jc"
   },
   "source": [
    "#**Parte 2: sección de preguntas (regex).**   \n"
   ]
  },
  {
   "cell_type": "markdown",
   "metadata": {
    "id": "X-eMJa3DFCIV"
   },
   "source": [
    "##**Instrucciones:**\n",
    "\n",
    "###**A continuación deberás contestar cada una de las preguntas que te piden usando expresiones regulares (regex).**\n",
    "\n",
    "###**Por el momento no hay restricción en cuanto al número de líneas de código que agregues, pero trata de incluir las mínimas posibles.**"
   ]
  },
  {
   "cell_type": "markdown",
   "metadata": {
    "id": "78nJMemzn5a5"
   },
   "source": [
    "*   **Pregunta 1.** \n",
    "\n",
    "Busca y elimina todos los saltos de línea '\\n' que se encuentran al final de cada comentario. \n",
    "\n",
    "Una vez finalizado, imprime los primeros 10 comentarios del resultado obtenido.\n"
   ]
  },
  {
   "cell_type": "code",
   "execution_count": 8,
   "metadata": {},
   "outputs": [
    {
     "data": {
      "text/plain": [
       "'Wow... Loved this place.\\n'"
      ]
     },
     "execution_count": 8,
     "metadata": {},
     "output_type": "execute_result"
    }
   ],
   "source": [
    "docs[0]"
   ]
  },
  {
   "cell_type": "code",
   "execution_count": 9,
   "metadata": {
    "id": "PwbYYIuZn8pE"
   },
   "outputs": [],
   "source": [
    "# Va linea por linea eliminanndo el \\n y agregando a la lista el comentario limpio \n",
    "\n",
    "respuesta_1 = list()\n",
    "for doc in docs:\n",
    "    respuesta_1.append(re.sub(r\"\\n\", \"\", doc))"
   ]
  },
  {
   "cell_type": "code",
   "execution_count": 10,
   "metadata": {
    "id": "j-0qeh2Jn8l1"
   },
   "outputs": [
    {
     "data": {
      "text/plain": [
       "['Wow... Loved this place.',\n",
       " 'Crust is not good.',\n",
       " 'Not tasty and the texture was just nasty.',\n",
       " 'Stopped by during the late May bank holiday off Rick Steve recommendation and loved it.',\n",
       " 'The selection on the menu was great and so were the prices.',\n",
       " 'Now I am getting angry and I want my damn pho.',\n",
       " \"Honeslty it didn't taste THAT fresh.)\",\n",
       " 'The potatoes were like rubber and you could tell they had been made up ahead of time being kept under a warmer.',\n",
       " 'The fries were great too.',\n",
       " 'A great touch.']"
      ]
     },
     "execution_count": 10,
     "metadata": {},
     "output_type": "execute_result"
    }
   ],
   "source": [
    "respuesta_1[0:10]"
   ]
  },
  {
   "cell_type": "markdown",
   "metadata": {
    "id": "VWeKQC93ctEo"
   },
   "source": [
    "*   **Pregunta 2.**  \n",
    "\n",
    "Busca e imprime todas las palabras que terminan con dos o más signos de admiración seguidos, por ejemplo \"!!!\". \n",
    "\n",
    "Debes imprimir tanto la palabra como la totalidad de signos de admiración que le siguen. \n",
    "\n",
    "Indica cuántos resultados obtuviste.\n"
   ]
  },
  {
   "cell_type": "code",
   "execution_count": 11,
   "metadata": {
    "id": "0p3kMXfddICc"
   },
   "outputs": [],
   "source": [
    "# Busca las que tengan 2 signos de admiración o mas y los agrega a la lista\n",
    "\n",
    "respuesta_2 = list()\n",
    "for doc in docs:\n",
    "    temp = re.findall(r\"\\w+!!+\", doc)\n",
    "    if len(temp) > 0:\n",
    "        respuesta_2.append(temp)"
   ]
  },
  {
   "cell_type": "code",
   "execution_count": 12,
   "metadata": {},
   "outputs": [
    {
     "data": {
      "text/plain": [
       "[['Firehouse!!!!!'],\n",
       " ['APPETIZERS!!!'],\n",
       " ['amazing!!!'],\n",
       " ['buffet!!!'],\n",
       " ['good!!'],\n",
       " ['it!!!!'],\n",
       " ['DELICIOUS!!'],\n",
       " ['amazing!!'],\n",
       " ['shawarrrrrrma!!!!!!'],\n",
       " ['yucky!!!'],\n",
       " ['steak!!!!!'],\n",
       " ['delicious!!!'],\n",
       " ['far!!'],\n",
       " ['biscuits!!!'],\n",
       " ['dry!!'],\n",
       " ['disappointing!!!'],\n",
       " ['awesome!!'],\n",
       " ['Up!!'],\n",
       " ['FLY!!!!!!!!'],\n",
       " ['here!!!'],\n",
       " ['great!!!!!!!!!!!!!!'],\n",
       " ['packed!!'],\n",
       " ['otherwise!!'],\n",
       " ['amazing!!!!!!!!!!!!!!!!!!!'],\n",
       " ['style!!'],\n",
       " ['disappointed!!']]"
      ]
     },
     "execution_count": 12,
     "metadata": {},
     "output_type": "execute_result"
    }
   ],
   "source": [
    "respuesta_2"
   ]
  },
  {
   "cell_type": "code",
   "execution_count": 13,
   "metadata": {
    "id": "SPVM1MCWdH6Z"
   },
   "outputs": [
    {
     "name": "stdout",
     "output_type": "stream",
     "text": [
      "Se obtuvieron:  26 resultados\n"
     ]
    }
   ],
   "source": [
    "print(\"Se obtuvieron: \", len(respuesta_2), \"resultados\")\n"
   ]
  },
  {
   "cell_type": "markdown",
   "metadata": {
    "id": "-s3okBqL96TT"
   },
   "source": [
    "*   **Pregunta 3.**  \n",
    "\n",
    "Busca e imprime todas las palabras que están escritas totalmente en mayúsculas. Cada coincidencia debe ser una sola palabra.\n",
    "\n",
    "Indica cuántas palabras encontraste.\n",
    "\n"
   ]
  },
  {
   "cell_type": "code",
   "execution_count": 14,
   "metadata": {
    "id": "yKHJkZKo_nW5"
   },
   "outputs": [],
   "source": [
    "# Busca las palabras escritas totalmente en mayuscula, despues se asegura que no fue agregada ya a la lista de la respuesta 3, si ya fue agregada la ignora asi no se repiten. \n",
    "\n",
    "respuesta_3 = list()\n",
    "for doc in docs:\n",
    "    temps = re.findall(r\"\\b[A-Z]+\\b\", doc)\n",
    "    for temp in temps:\n",
    "        if len(temp) > 0 and temp not in respuesta_3:\n",
    "            respuesta_3.append(temp)\n"
   ]
  },
  {
   "cell_type": "code",
   "execution_count": 15,
   "metadata": {},
   "outputs": [
    {
     "data": {
      "text/plain": [
       "['A',\n",
       " 'AGAIN',\n",
       " 'ALL',\n",
       " 'AN',\n",
       " 'AND',\n",
       " 'APPETIZERS',\n",
       " 'AVOID',\n",
       " 'AYCE',\n",
       " 'AZ',\n",
       " 'BACK',\n",
       " 'BARE',\n",
       " 'BARGAIN',\n",
       " 'BBQ',\n",
       " 'BEST',\n",
       " 'BETTER',\n",
       " 'BITCHES',\n",
       " 'BLAND',\n",
       " 'CONCLUSION',\n",
       " 'DELICIOUS',\n",
       " 'ESTABLISHMENT',\n",
       " 'EVER',\n",
       " 'EXPERIENCE',\n",
       " 'FANTASTIC',\n",
       " 'FLAVOR',\n",
       " 'FLY',\n",
       " 'FORWARD',\n",
       " 'FREEZING',\n",
       " 'FS',\n",
       " 'GC',\n",
       " 'GO',\n",
       " 'GREAT',\n",
       " 'HAD',\n",
       " 'HANDS',\n",
       " 'HAPPENED',\n",
       " 'HAVE',\n",
       " 'HOUR',\n",
       " 'I',\n",
       " 'IN',\n",
       " 'INCONSIDERATE',\n",
       " 'IT',\n",
       " 'LEGIT',\n",
       " 'LOVED',\n",
       " 'M',\n",
       " 'MANAGEMENT',\n",
       " 'MANY',\n",
       " 'MGM',\n",
       " 'MUST',\n",
       " 'NASTY',\n",
       " 'NEVER',\n",
       " 'NO',\n",
       " 'NONE',\n",
       " 'NOT',\n",
       " 'NOW',\n",
       " 'NYC',\n",
       " 'OF',\n",
       " 'OK',\n",
       " 'OMG',\n",
       " 'OVERPRICED',\n",
       " 'OWNERS',\n",
       " 'PEOPLE',\n",
       " 'PERFECT',\n",
       " 'REAL',\n",
       " 'REALLY',\n",
       " 'RI',\n",
       " 'RUDE',\n",
       " 'SCREAMS',\n",
       " 'SHOULD',\n",
       " 'STALE',\n",
       " 'STEP',\n",
       " 'T',\n",
       " 'THAT',\n",
       " 'THE',\n",
       " 'THIS',\n",
       " 'TIME',\n",
       " 'TOLD',\n",
       " 'TOTAL',\n",
       " 'TV',\n",
       " 'UNREAL',\n",
       " 'VERY',\n",
       " 'WASTE',\n",
       " 'WAY',\n",
       " 'WEAK',\n",
       " 'WHAT',\n",
       " 'WILL',\n",
       " 'WORST']"
      ]
     },
     "execution_count": 15,
     "metadata": {},
     "output_type": "execute_result"
    }
   ],
   "source": [
    "respuesta_3.sort()\n",
    "respuesta_3"
   ]
  },
  {
   "cell_type": "code",
   "execution_count": 16,
   "metadata": {
    "id": "L3q08aq69sNn"
   },
   "outputs": [
    {
     "name": "stdout",
     "output_type": "stream",
     "text": [
      "Se obtuvieron:  85 resultados\n"
     ]
    }
   ],
   "source": [
    "print(\"Se obtuvieron: \", len(respuesta_3), \"resultados\")\n"
   ]
  },
  {
   "cell_type": "markdown",
   "metadata": {
    "id": "GX8eYyDoMZma"
   },
   "source": [
    "*   **Pregunta 4.**  \n",
    "\n",
    "Busca e imprime los comentarios en donde todos los caracteres alfabéticos (letras) están en mayúsculas. \n",
    "\n",
    "Cada coincidencia encontrada debe ser todo el comentario/enunciado.\n",
    "\n",
    "Indica cuántos resultados obtuviste."
   ]
  },
  {
   "cell_type": "code",
   "execution_count": 17,
   "metadata": {
    "id": "K8VuZxvTMYj6"
   },
   "outputs": [],
   "source": [
    "# Busco cuando una palabra esta escrita toda en mayuscula y cuando la encuentra trae toda la oración\n",
    "respuesta_4 = list()\n",
    "for doc in docs:\n",
    "    temp = re.findall(r\"\\b[A-Z]+\\b.*?\\.\", doc)\n",
    "    if len(temp) > 0:\n",
    "        respuesta_4.append(temp)"
   ]
  },
  {
   "cell_type": "code",
   "execution_count": 18,
   "metadata": {
    "id": "PmKgX7sCMcDx"
   },
   "outputs": [
    {
     "data": {
      "text/plain": [
       "[['THAT fresh.'],\n",
       " ['A great touch.'],\n",
       " ['I had to say it still ended up being wayyy overpriced.'],\n",
       " ['I tried the Cape Cod ravoli, chicken,with cranberry.'],\n",
       " ['I was disgusted because I was pretty sure that was human hair.'],\n",
       " ['I was shocked because no signs indicate cash only.'],\n",
       " ['I could care less.'],\n",
       " ['I found this place by accident and I could not be happier.'],\n",
       " ['I like this place a lot.'],\n",
       " ['I was stupid every time he came to the table.'],\n",
       " ['I did like was the prime rib and dessert section.'],\n",
       " ['I struggle to wave you over for 10 minutes.'],\n",
       " ['A great way to finish a great.'],\n",
       " [\"I guess I should have known that this place would suck, because it is inside of the Excalibur, but I didn't use my common sense.\"]]"
      ]
     },
     "execution_count": 18,
     "metadata": {},
     "output_type": "execute_result"
    }
   ],
   "source": [
    "respuesta_4[1:15]"
   ]
  },
  {
   "cell_type": "code",
   "execution_count": 19,
   "metadata": {},
   "outputs": [
    {
     "name": "stdout",
     "output_type": "stream",
     "text": [
      "Se obtuvieron:  289 resultados\n"
     ]
    }
   ],
   "source": [
    "print(\"Se obtuvieron: \", len(respuesta_4), \"resultados\")\n"
   ]
  },
  {
   "cell_type": "markdown",
   "metadata": {
    "id": "a1i6qv7-McmU"
   },
   "source": [
    "*   **Pregunta 5.**  \n",
    "\n",
    "Busca e imprime todas las palabras que tengan una vocal acentuada, del tipo á, é, í, ó, ú. \n",
    "\n",
    "Indica cuántos resultados obtuviste."
   ]
  },
  {
   "cell_type": "code",
   "execution_count": 20,
   "metadata": {
    "id": "nZZ5zKUOMeGD"
   },
   "outputs": [],
   "source": [
    "# Busca las palabras con acentos, pero como las palabras estan en ingles no encontro ninguna \n",
    "respuesta_5 = list()\n",
    "for doc in docs:\n",
    "    temp = re.findall(r\"\\w*[áéíóú]\\w*\\b\", doc)\n",
    "    if len(temp) > 0:\n",
    "          respuesta_5.append(temp)"
   ]
  },
  {
   "cell_type": "code",
   "execution_count": 21,
   "metadata": {
    "id": "l1mFvUEZMe8s"
   },
   "outputs": [
    {
     "data": {
      "text/plain": [
       "[['fiancé'], ['Café'], ['puréed'], ['á12']]"
      ]
     },
     "execution_count": 21,
     "metadata": {},
     "output_type": "execute_result"
    }
   ],
   "source": [
    "respuesta_5"
   ]
  },
  {
   "cell_type": "code",
   "execution_count": 22,
   "metadata": {},
   "outputs": [
    {
     "name": "stdout",
     "output_type": "stream",
     "text": [
      "Se obtuvieron:  4 resultados\n"
     ]
    }
   ],
   "source": [
    "print(\"Se obtuvieron: \", len(respuesta_5), \"resultados\")"
   ]
  },
  {
   "cell_type": "markdown",
   "metadata": {
    "id": "ZmPiAI82Mfb3"
   },
   "source": [
    "*   **Pregunta 6.**  \n",
    "\n",
    "Busca e imprime todas las cantidades numéricas monetarias, enteras o con decimales, que inician con el símbolo $\\$$. \n",
    "\n",
    "Indica cuántos resultados obtuviste."
   ]
  },
  {
   "cell_type": "code",
   "execution_count": 23,
   "metadata": {
    "id": "6vhe9-Y-MhL9"
   },
   "outputs": [],
   "source": [
    "respuesta_6 = list()\n",
    "for doc in docs:\n",
    "    r\"\\$\\d+(,\\d{3})*(\\.\\d+)?\"\n",
    "    temp = re.findall(r\"\\$[\\d.]+\", doc)\n",
    "    if len(temp) > 0:          \n",
    "        respuesta_6.append(temp[0])"
   ]
  },
  {
   "cell_type": "code",
   "execution_count": 24,
   "metadata": {
    "id": "_t0a5xWDMhQ5"
   },
   "outputs": [
    {
     "data": {
      "text/plain": [
       "['$20', '$4.00.', '$17', '$3', '$35', '$7.85', '$11.99']"
      ]
     },
     "execution_count": 24,
     "metadata": {},
     "output_type": "execute_result"
    }
   ],
   "source": [
    "respuesta_6"
   ]
  },
  {
   "cell_type": "code",
   "execution_count": 25,
   "metadata": {},
   "outputs": [
    {
     "name": "stdout",
     "output_type": "stream",
     "text": [
      "Se obtuvieron:  7 resultados\n"
     ]
    }
   ],
   "source": [
    "print(\"Se obtuvieron: \", len(respuesta_6), \"resultados\")"
   ]
  },
  {
   "cell_type": "markdown",
   "metadata": {
    "id": "2j-HpvhwMhq2"
   },
   "source": [
    "*   **Pregunta 7.**  \n",
    "\n",
    "Busca e imprime todas las palabras que sean variantes de la palabra \"love\", sin importar si incluyen mayúsculas o minúsculas, o la manera en que esté conjugada o alguna otra variación que se haga con dicha palabra.\n",
    "\n",
    "Indica cuántos resultados obtuviste."
   ]
  },
  {
   "cell_type": "code",
   "execution_count": 26,
   "metadata": {
    "id": "kqqyRChVMjol"
   },
   "outputs": [],
   "source": [
    "#en este regex se buscan las palabras conjugadas de la palabra LOVE pero se puede repetir la palabra que aparece\n",
    "respuesta_7 = list()\n",
    "for doc in docs:\n",
    "    temp = re.findall(r\"\\b[lL][oO][vV][eE]\\w*\\b\", doc)\n",
    "    if len(temp) > 0:          \n",
    "        respuesta_7.append(temp[0])"
   ]
  },
  {
   "cell_type": "code",
   "execution_count": 27,
   "metadata": {
    "id": "UXd0VQluMj_x"
   },
   "outputs": [
    {
     "data": {
      "text/plain": [
       "['Loved',\n",
       " 'loved',\n",
       " 'Loved',\n",
       " 'love',\n",
       " 'loves',\n",
       " 'LOVED',\n",
       " 'lovers',\n",
       " 'love',\n",
       " 'lovers',\n",
       " 'Love',\n",
       " 'loved',\n",
       " 'loved',\n",
       " 'love',\n",
       " 'love',\n",
       " 'love',\n",
       " 'loved',\n",
       " 'love',\n",
       " 'loved',\n",
       " 'Love',\n",
       " 'LOVED',\n",
       " 'love',\n",
       " 'lovely',\n",
       " 'love',\n",
       " 'lovely',\n",
       " 'love',\n",
       " 'lover',\n",
       " 'loved',\n",
       " 'love',\n",
       " 'love',\n",
       " 'love',\n",
       " 'love',\n",
       " 'love',\n",
       " 'love',\n",
       " 'love',\n",
       " 'love']"
      ]
     },
     "execution_count": 27,
     "metadata": {},
     "output_type": "execute_result"
    }
   ],
   "source": [
    "respuesta_7"
   ]
  },
  {
   "cell_type": "code",
   "execution_count": 28,
   "metadata": {},
   "outputs": [],
   "source": [
    "#en este regex se buscan las palabras conjugadas de la palabra LOVE pero se puede repetir la palabra que aparece\n",
    "respuesta_7_2 = list()\n",
    "for doc in docs:\n",
    "    temp = re.findall(r\"\\b[lL][oO][vV][eE]\\w*\\b\", doc)\n",
    "    if len(temp) > 0 and temp[0].lower() not in respuesta_7_2:          \n",
    "        respuesta_7_2.append(temp[0].lower())"
   ]
  },
  {
   "cell_type": "code",
   "execution_count": 29,
   "metadata": {},
   "outputs": [
    {
     "data": {
      "text/plain": [
       "['loved', 'love', 'loves', 'lovers', 'lovely', 'lover']"
      ]
     },
     "execution_count": 29,
     "metadata": {},
     "output_type": "execute_result"
    }
   ],
   "source": [
    "respuesta_7_2"
   ]
  },
  {
   "cell_type": "code",
   "execution_count": 30,
   "metadata": {},
   "outputs": [
    {
     "name": "stdout",
     "output_type": "stream",
     "text": [
      "Se obtuvieron  35 casos en los que aparecia la palabra love o alguna conjugación de esta\n",
      "De los cuales  6 fueron conjugaciónes unicas\n"
     ]
    }
   ],
   "source": [
    "print(\"Se obtuvieron \", len(respuesta_7), \"casos en los que aparecia la palabra love o alguna conjugación de esta\")\n",
    "print(\"De los cuales \", len(respuesta_7_2), \"fueron conjugaciónes unicas\")"
   ]
  },
  {
   "cell_type": "markdown",
   "metadata": {
    "id": "Ctb-NTY3MkYG"
   },
   "source": [
    "*   **Pregunta 8.**  \n",
    "\n",
    "Busca e imprime todas las palabras, variantes de \"so\" y \"good\", que tengan dos o más \"o\" en \"so\" y 3 o más \"o\" en good. \n",
    "\n",
    "Indica cuántas encontraste.\n"
   ]
  },
  {
   "cell_type": "code",
   "execution_count": 31,
   "metadata": {
    "id": "A8Nf3B_cMlqg"
   },
   "outputs": [],
   "source": [
    "#Encuentra las variantes de soo o las variantes de good y lo agrega a la lista\n",
    "respuesta_8 = list()\n",
    "for doc in docs:\n",
    "    temp = re.findall(r\"\\bso+\\w*o{2,}\\b |\\b\\w*o{3,}\\w*\\b\", doc, re.IGNORECASE)\n",
    "    if len(temp) > 0:          \n",
    "        respuesta_8.append(temp)"
   ]
  },
  {
   "cell_type": "code",
   "execution_count": 32,
   "metadata": {
    "id": "svS4-vvPMl6f"
   },
   "outputs": [
    {
     "data": {
      "text/plain": [
       "[['Sooooo '], ['soooo '], ['gooodd'], ['soooooo '], ['soooo ']]"
      ]
     },
     "execution_count": 32,
     "metadata": {},
     "output_type": "execute_result"
    }
   ],
   "source": [
    "respuesta_8"
   ]
  },
  {
   "cell_type": "code",
   "execution_count": 33,
   "metadata": {},
   "outputs": [
    {
     "name": "stdout",
     "output_type": "stream",
     "text": [
      "Se obtuvieron:  5 resultados\n"
     ]
    }
   ],
   "source": [
    "print(\"Se obtuvieron: \", len(respuesta_8), \"resultados\")"
   ]
  },
  {
   "cell_type": "markdown",
   "metadata": {
    "id": "hkak1opjMmlk"
   },
   "source": [
    "*   **Pregunta 9.**  \n",
    "\n",
    "Busca e imprime todas las palabras que tengan una longitud mayor estrictamente a 10 caracteres alfabéticos.\n",
    "\n",
    "No se consideran los signos de puntuación o caracteres especiales en la longitud de estas cadenas, solo caracteres alfabéticos en mayúsculas o minúsculas.\n",
    "\n",
    "Indica la cantidad de palabras encontradas.\n"
   ]
  },
  {
   "cell_type": "code",
   "execution_count": 34,
   "metadata": {
    "id": "PYxdp3uhMoD0"
   },
   "outputs": [],
   "source": [
    "respuesta_9 = list()\n",
    "for doc in docs:\n",
    "    temps = re.findall(r\"\\b\\w{11,}\\b\", doc)\n",
    "    if len(temps) > 0:  \n",
    "        for temp in temps:\n",
    "            respuesta_9.append(temp)"
   ]
  },
  {
   "cell_type": "code",
   "execution_count": 35,
   "metadata": {
    "id": "BR7e2F4FMof-"
   },
   "outputs": [
    {
     "data": {
      "text/plain": [
       "['recommendation',\n",
       " 'recommended',\n",
       " 'overwhelmed',\n",
       " 'inexpensive',\n",
       " 'establishment',\n",
       " 'imaginative',\n",
       " 'opportunity',\n",
       " 'experiencing',\n",
       " 'underwhelming',\n",
       " 'relationship',\n",
       " 'unsatisfying',\n",
       " 'disappointing',\n",
       " 'outrageously',\n",
       " 'disappointing',\n",
       " 'expectations']"
      ]
     },
     "execution_count": 35,
     "metadata": {},
     "output_type": "execute_result"
    }
   ],
   "source": [
    "respuesta_9[0:15]"
   ]
  },
  {
   "cell_type": "code",
   "execution_count": 36,
   "metadata": {},
   "outputs": [
    {
     "name": "stdout",
     "output_type": "stream",
     "text": [
      "Se obtuvieron:  141 resultados\n"
     ]
    }
   ],
   "source": [
    "print(\"Se obtuvieron: \", len(respuesta_9), \"resultados\")"
   ]
  },
  {
   "cell_type": "markdown",
   "metadata": {
    "id": "ApjTNzSxMpDc"
   },
   "source": [
    "*   **Pregunta 10.**  \n",
    "\n",
    "Busca e imprime todas las palabras que inician con una letra mayúscula y terminan con una minúscula, pero que además no sea la primera palabra del comentario/string. \n",
    "\n",
    "Indica la cantidad de resultados obtenidos."
   ]
  },
  {
   "cell_type": "code",
   "execution_count": 37,
   "metadata": {
    "id": "Vb0ndRGAMqdL"
   },
   "outputs": [],
   "source": [
    "#Busca todas las palabras que empiezan con mayuscula y terminan con minuscula, pero no pueden ser la primera palabra de la oración\n",
    "respuesta_10 = list()\n",
    "for doc in docs:\n",
    "    temps = re.findall(r\"(?<!['\\\"])((?<!^)[A-Z][a-z]+[a-z](?!\\S))\", doc)\n",
    "    if len(temps) > 0:  \n",
    "        for temp in temps:\n",
    "            respuesta_10.append(temp)"
   ]
  },
  {
   "cell_type": "code",
   "execution_count": 38,
   "metadata": {
    "id": "dLPTRPnTMqqx"
   },
   "outputs": [
    {
     "data": {
      "text/plain": [
       "['Loved',\n",
       " 'May',\n",
       " 'Rick',\n",
       " 'Steve',\n",
       " 'Cape',\n",
       " 'Cod',\n",
       " 'Burrittos',\n",
       " 'The',\n",
       " 'They',\n",
       " 'Mexican',\n",
       " 'Luke',\n",
       " 'Our',\n",
       " 'Hiro',\n",
       " 'Greek',\n",
       " 'Greek']"
      ]
     },
     "execution_count": 38,
     "metadata": {},
     "output_type": "execute_result"
    }
   ],
   "source": [
    "respuesta_10[0:15]"
   ]
  },
  {
   "cell_type": "code",
   "execution_count": 39,
   "metadata": {},
   "outputs": [
    {
     "name": "stdout",
     "output_type": "stream",
     "text": [
      "Se obtuvieron:  195 resultados\n"
     ]
    }
   ],
   "source": [
    "print(\"Se obtuvieron: \", len(respuesta_10), \"resultados\")"
   ]
  },
  {
   "cell_type": "markdown",
   "metadata": {
    "id": "u7nfm4KhMrNW"
   },
   "source": [
    "*   **Pregunta 11.**  \n",
    "\n",
    "Busca e imprime la secuencia de dos o más palabras que están separadas por un guion, \"-\", sin que tengan espacios en blanco entre ellas.\n",
    "\n",
    "Por ejemplo \"Go-Kart\" sería válido, pero \"Go  -Kart\" o \"Go  -  Kart\" no lo serían. \n",
    "\n",
    "Indica la cantidad de resultados obtenidos."
   ]
  },
  {
   "cell_type": "code",
   "execution_count": 40,
   "metadata": {
    "id": "OwU-a7eGMsub"
   },
   "outputs": [],
   "source": [
    "respuesta_11 = list()\n",
    "for doc in docs:\n",
    "    temps = re.findall(r\"(?<=\\b)[a-zA-Z]+(?:-[a-zA-Z]+)+(?=\\b)\", doc)\n",
    "    if len(temps) > 0:  \n",
    "        for temp in temps:\n",
    "            respuesta_11.append(temp)"
   ]
  },
  {
   "cell_type": "code",
   "execution_count": 41,
   "metadata": {
    "id": "SgzIL74ZMtGw"
   },
   "outputs": [
    {
     "data": {
      "text/plain": [
       "['flat-lined',\n",
       " 'hands-down',\n",
       " 'must-stop',\n",
       " 'sub-par',\n",
       " 'Service-check',\n",
       " 'in-house',\n",
       " 'been-stepped-in-and-tracked-everywhere',\n",
       " 'multi-grain',\n",
       " 'to-go',\n",
       " 'non-customer',\n",
       " 'High-quality',\n",
       " 'sit-down',\n",
       " 'over-whelm',\n",
       " 'low-key',\n",
       " 'non-fancy',\n",
       " 'golden-crispy',\n",
       " 'over-priced',\n",
       " 'over-hip',\n",
       " 'under-services']"
      ]
     },
     "execution_count": 41,
     "metadata": {},
     "output_type": "execute_result"
    }
   ],
   "source": [
    "respuesta_11"
   ]
  },
  {
   "cell_type": "code",
   "execution_count": 42,
   "metadata": {},
   "outputs": [
    {
     "name": "stdout",
     "output_type": "stream",
     "text": [
      "Se obtuvieron:  19 resultados\n"
     ]
    }
   ],
   "source": [
    "print(\"Se obtuvieron: \", len(respuesta_11), \"resultados\")"
   ]
  },
  {
   "cell_type": "markdown",
   "metadata": {
    "id": "DEIgl79HMthr"
   },
   "source": [
    "*   **Pregunta 12.**  \n",
    "\n",
    "Busca e imprime todas las palabras que terminan en \"ing\" o \"ed\". \n",
    "\n",
    "Indica la cantidad de palabras que encontraste de cada una."
   ]
  },
  {
   "cell_type": "code",
   "execution_count": 43,
   "metadata": {
    "id": "I4TSofBMMv9y"
   },
   "outputs": [],
   "source": [
    "respuesta_12 = list()\n",
    "for doc in docs:\n",
    "    temps = re.findall(r'\\b\\w+(ing|ed)\\b', doc)\n",
    "    if len(temps) > 0:  \n",
    "        for temp in temps:\n",
    "            respuesta_12.append(temp)"
   ]
  },
  {
   "cell_type": "code",
   "execution_count": 44,
   "metadata": {},
   "outputs": [
    {
     "name": "stdout",
     "output_type": "stream",
     "text": [
      "Se obtuvieron:  614 resultados\n"
     ]
    }
   ],
   "source": [
    "print(\"Se obtuvieron: \", len(respuesta_12), \"resultados\")"
   ]
  },
  {
   "cell_type": "markdown",
   "metadata": {
    "id": "70StdqAZa9E9"
   },
   "source": [
    "#**Parte 3. Proceso de limpieza.**"
   ]
  },
  {
   "cell_type": "markdown",
   "metadata": {
    "id": "xaDUFXHrMvX2"
   },
   "source": [
    "*   **Pregunta 13.**  \n",
    "\n",
    "Ahora realiza un proceso de limpieza del corpus que incluya los siguientes procesos:\n",
    "\n",
    "*   Solo se deben considerar caracteres alfabéticos. Es decir, se eliminan todos los signos de puntuación y caracteres especiales.\n",
    "*   Todos los caracteres alfabéticos se transforman a minúsculas.\n",
    "*   Se deben eliminar todos los espacios en blanco adicionales que se puedan encontrar en cada comentario.\n",
    "\n",
    "Al finalizar dicho proceso de limpieza, imprime el resultado de los primeros 10 comentarios resultantes. \n",
    "   "
   ]
  },
  {
   "cell_type": "code",
   "execution_count": 45,
   "metadata": {
    "id": "K3kQzPOPMx0w"
   },
   "outputs": [],
   "source": [
    "doc_limpio = list()\n",
    "for doc in docs:\n",
    "    temp = re.sub(r\"\\n\", \"\", doc)\n",
    "    temp = re.sub(r'[^a-zA-Z0-9\\s]',\"\", temp)\n",
    "    temp = re.sub(r\"\\s+\", \" \", temp).strip()\n",
    "    temp = temp.lower()\n",
    "    doc_limpio. append(temp)"
   ]
  },
  {
   "cell_type": "code",
   "execution_count": 46,
   "metadata": {
    "id": "mYEDlHSFMyJN"
   },
   "outputs": [
    {
     "data": {
      "text/plain": [
       "['wow loved this place',\n",
       " 'crust is not good',\n",
       " 'not tasty and the texture was just nasty',\n",
       " 'stopped by during the late may bank holiday off rick steve recommendation and loved it',\n",
       " 'the selection on the menu was great and so were the prices',\n",
       " 'now i am getting angry and i want my damn pho',\n",
       " 'honeslty it didnt taste that fresh',\n",
       " 'the potatoes were like rubber and you could tell they had been made up ahead of time being kept under a warmer',\n",
       " 'the fries were great too',\n",
       " 'a great touch']"
      ]
     },
     "execution_count": 46,
     "metadata": {},
     "output_type": "execute_result"
    }
   ],
   "source": [
    "doc_limpio[0:10]"
   ]
  },
  {
   "cell_type": "markdown",
   "metadata": {
    "id": "WZwEhg2lUSAX"
   },
   "source": [
    "*   **Pregunta 14.**  \n",
    "\n",
    "Con el resultado de la limpieza obtenido en la pregunta anterior, realiza ahora un proceso de tokenización por palabras del corpus. \n",
    "\n",
    "Es decir, al final de este proceso de tokenización, debes tener como resultado una lista de listas, donde cada comentario estará tokenizado por palabras.\n",
    "\n",
    "Al terminar calcula el total de tokens obtenido en todo el corpus. "
   ]
  },
  {
   "cell_type": "code",
   "execution_count": 48,
   "metadata": {
    "id": "kbAL9-v0V-jx"
   },
   "outputs": [
    {
     "data": {
      "text/plain": [
       "['wow', 'loved', 'this', 'place', 'crust', 'is', 'not', 'good', 'not', 'tasty']"
      ]
     },
     "execution_count": 48,
     "metadata": {},
     "output_type": "execute_result"
    }
   ],
   "source": [
    "docs_tokenizado = list()\n",
    "for token in doc_limpio:\n",
    "    tokens = token.split()\n",
    "    docs_tokenizado = docs_tokenizado + tokens\n",
    "docs_tokenizado[0:10]"
   ]
  },
  {
   "cell_type": "code",
   "execution_count": 49,
   "metadata": {
    "id": "DZs_etmiV-fd"
   },
   "outputs": [
    {
     "name": "stdout",
     "output_type": "stream",
     "text": [
      "la cantidad de tokens obtenida es: 10846\n"
     ]
    }
   ],
   "source": [
    "print(\"la cantidad de tokens obtenida es:\", len(docs_tokenizado))"
   ]
  },
  {
   "cell_type": "markdown",
   "metadata": {
    "id": "EFeu0OJ7WDPD"
   },
   "source": [
    "*   **Pregunta 15.**  \n",
    "\n",
    "Finalmente, en este ejercicio definiremos nuestro conjunto de palabras \"stopwords\", las cuales deberás eliminar de todo el corpus. \n",
    "\n",
    "Recuerda que ejemplos de stopwords son artículos, adverbios, conectivos, etcétera, que tienen frecuencias de aparición muy altas en cualquier documento, pero que no brindan mucho significado en cuanto al significado de un enunciado.\n",
    "\n",
    "Con base a la lista de stopwords que se te proporciona, realiza un proceso de limpieza eliminando todas estas palabras del corpus obtenido en el ejercicio anterior.\n",
    "\n",
    "Obtener cuántos tokens/palabras quedan finalmente en todo el corpus.\n",
    "\n",
    "Obtener cuántos de estos tokens/palabras son diferentes, es decir, cuántos tokens únicos tendrá lo que llamaremos más adelante nuestro vocabulario."
   ]
  },
  {
   "cell_type": "code",
   "execution_count": 51,
   "metadata": {
    "id": "6FP4FF3KXGxm"
   },
   "outputs": [],
   "source": [
    "# Considera la siguiente lista como tu conjunto de stopwords:\n",
    "mis_stopwords = ['i', 'me', 'my', 'myself', 'we', 'our', 'ours', 'ourselves', 'you', 'your', 'yours', 'he', 'him', 'his', 'himself', 'she', 'her', 'hers', 'herself', 'it', 'its', 'itself', 'they', 'them', 'their', 'theirs', 'themselves', 'what', 'which', 'who', 'whom', 'this', 'that', 'these', 'those', 'am', 'is', 'are', 'was', 'were', 'be', 'been', 'being', 'have', 'has', 'had', 'having', 'do', 'does', 'did', 'doing', 'a', 'an', 'the', 'and', 'but', 'if', 'or', 'because', 'as', 'until', 'while', 'of', 'at', 'by', 'for', 'with', 'about', 'against', 'between', 'into', 'through', 'during', 'before', 'after', 'above', 'below', 'to', 'from', 'up', 'down', 'in', 'out', 'on', 'over', 'under', 'again', 'further', 'then', 'once', 'here', 'there', 'when', 'where', 'why', 'how', 'all', 'any', 'both', 'each', 'few', 'more', 'most', 'other', 'some', 'such', 'only', 'own', 'same', 'so', 'than', 'too', 'very', 's', 't', 'can', 'will', 'just', 'should', 'now', 'll']"
   ]
  },
  {
   "cell_type": "code",
   "execution_count": 52,
   "metadata": {
    "id": "CD8yjyq1ZrwY"
   },
   "outputs": [],
   "source": [
    "docs_sin_stopwords = list(filter(lambda x: x not in mis_stopwords, docs_tokenizado))\n"
   ]
  },
  {
   "cell_type": "code",
   "execution_count": 55,
   "metadata": {
    "id": "4ZPi5prKZro5"
   },
   "outputs": [
    {
     "name": "stdout",
     "output_type": "stream",
     "text": [
      "la cantidad de palabras despues de quitar los las stopwords es: 5846\n"
     ]
    }
   ],
   "source": [
    "print(\"la cantidad de palabras despues de quitar los las stopwords es:\", len(docs_sin_stopwords))"
   ]
  },
  {
   "cell_type": "markdown",
   "metadata": {
    "id": "NDbKkuxRbLoX"
   },
   "source": [
    "*   **Comentarios**\n",
    "\n",
    "Incluye finalmente tus comentarios de la actividad."
   ]
  },
  {
   "cell_type": "markdown",
   "metadata": {
    "id": "o7fzbvqVbUGr"
   },
   "source": [
    "Se me hizo muy interesante la actividad, aprendi mucho del proceso de limpieza, aunque algunos comandos de regex son algo dificiles de decifrar, son mucho mas eficientes que tratar de limpiar manualmente un documento de 10,000, 100,000 palabras. Incluso si intentara usar comandos de python (como sub string, findall, replace, etc) para hacer la limpieza de las palabras, estos tienen muchas limitaciones, al ver los ejemplos puestos en el ejercicio me di cuenta. \n",
    "\n",
    "Muchas funciones parecen dificiles de hacer pero una vez puestas en practica no son tan complicadas porque python ya te facilita mucho el proceso, como eliminar caracteres especiales, eliminar las stopwords, tokenizar el texto, etc. \n",
    "\n",
    "Me gusto mucho la actividad porque me siento mas capaz de trabajar con textos y siento que para futuras practicas estas son las bases de NLP. "
   ]
  },
  {
   "cell_type": "markdown",
   "metadata": {
    "id": "PHaKw_6Ldbaf"
   },
   "source": [
    "##**Fin de la Actividad de la semana 2.**"
   ]
  }
 ],
 "metadata": {
  "colab": {
   "collapsed_sections": [
    "759SG4TyfbUn",
    "Zj-h4drXD-X9",
    "BY6yifxscfrx",
    "k_ewoagic5jc",
    "70StdqAZa9E9"
   ],
   "provenance": []
  },
  "kernelspec": {
   "display_name": "Python 3 (ipykernel)",
   "language": "python",
   "name": "python3"
  },
  "language_info": {
   "codemirror_mode": {
    "name": "ipython",
    "version": 3
   },
   "file_extension": ".py",
   "mimetype": "text/x-python",
   "name": "python",
   "nbconvert_exporter": "python",
   "pygments_lexer": "ipython3",
   "version": "3.10.9"
  }
 },
 "nbformat": 4,
 "nbformat_minor": 4
}
